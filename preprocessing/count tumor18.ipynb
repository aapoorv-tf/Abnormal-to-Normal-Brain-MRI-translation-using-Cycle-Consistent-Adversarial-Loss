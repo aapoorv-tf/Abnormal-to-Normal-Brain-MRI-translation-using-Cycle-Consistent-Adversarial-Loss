{
 "cells": [
  {
   "cell_type": "code",
   "execution_count": 1,
   "metadata": {},
   "outputs": [],
   "source": [
    "# from medpy.io import load\n",
    "import nibabel as nib\n",
    "import matplotlib.pyplot as plt\n",
    "import random\n",
    "from sklearn.preprocessing import MinMaxScaler\n",
    "import glob\n",
    "import numpy as np\n",
    "scaler = MinMaxScaler()\n"
   ]
  },
  {
   "cell_type": "code",
   "execution_count": 2,
   "metadata": {},
   "outputs": [],
   "source": [
    "flair_list = sorted(glob.glob(\"../dataset/brats2018/BraTS_2018_Data_Training/*/*/*flair.nii\"))\n",
    "mask_list = sorted(glob.glob(\"../dataset/brats2018/BraTS_2018_Data_Training/*/*/*seg.nii\"))"
   ]
  },
  {
   "cell_type": "code",
   "execution_count": 3,
   "metadata": {},
   "outputs": [
    {
     "data": {
      "text/plain": [
       "(285, 285)"
      ]
     },
     "execution_count": 3,
     "metadata": {},
     "output_type": "execute_result"
    }
   ],
   "source": [
    "len(flair_list), len(mask_list)"
   ]
  },
  {
   "cell_type": "code",
   "execution_count": 19,
   "metadata": {},
   "outputs": [],
   "source": [
    "def isTumor(mask_slice):\n",
    "    if(np.sum(mask_slice)>=50):\n",
    "        return True"
   ]
  },
  {
   "cell_type": "code",
   "execution_count": 20,
   "metadata": {},
   "outputs": [
    {
     "name": "stdout",
     "output_type": "stream",
     "text": [
      "17338\n"
     ]
    }
   ],
   "source": [
    "count=0\n",
    "\n",
    "for i in range(len(flair_list)):\n",
    "    flair = nib.load(flair_list[i]).get_fdata()\n",
    "    flair = scaler.fit_transform(flair.reshape(-1, flair.shape[-1])).reshape(flair.shape)\n",
    "    mask = nib.load(mask_list[i]).get_fdata()\n",
    "    for l in range(2,5):    \n",
    "        mask[mask == l] = 1\n",
    "#(15,140)\n",
    "    for n_slice in range(30,120):\n",
    "        if(isTumor(mask[:,:,n_slice])):\n",
    "            count+=1\n",
    "\n",
    "print(count)\n"
   ]
  },
  {
   "cell_type": "code",
   "execution_count": null,
   "metadata": {},
   "outputs": [],
   "source": [
    "#(>500, (15, 140)) = 14032\n",
    "#(>400, (15, 140)) = 14710\n",
    "#(>200, (15, 140)) = 16093\n",
    "#(>100, (15, 140)) = 16995\n",
    "#(>50, (15, 140)) = 17605\n",
    "#(=0, (0, 155)) = 17611\n",
    "#(<5, (0, 155)) = 25611\n",
    "#(<10, (0, 155)) = 25793\n",
    "#(=0, (10, 140)) = 18136\n",
    "#(=0, (0, 130)) = 18521\n",
    "#(>500, (0, 130)) = 13963\n",
    "#(>100, (0, 130)) = 16773\n",
    "#(>50, (0, 130)) = 17338"
   ]
  }
 ],
 "metadata": {
  "interpreter": {
   "hash": "2f454e2e96646770199fc47cb78d862d839ffea576fb3d9512f2d8b1a9f28fb3"
  },
  "kernelspec": {
   "display_name": "Python 3",
   "language": "python",
   "name": "python3"
  },
  "language_info": {
   "codemirror_mode": {
    "name": "ipython",
    "version": 3
   },
   "file_extension": ".py",
   "mimetype": "text/x-python",
   "name": "python",
   "nbconvert_exporter": "python",
   "pygments_lexer": "ipython3",
   "version": "3.7.9"
  }
 },
 "nbformat": 4,
 "nbformat_minor": 2
}
